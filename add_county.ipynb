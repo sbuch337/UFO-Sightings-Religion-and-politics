{
 "cells": [
  {
   "cell_type": "code",
   "execution_count": 1,
   "id": "2d35e4cd",
   "metadata": {},
   "outputs": [],
   "source": [
    "# !pip install geocoder\n",
    "# !pip install plotly-geo\n",
    "# !pip3 install pickle5"
   ]
  },
  {
   "cell_type": "code",
   "execution_count": 2,
   "id": "8cc424a2",
   "metadata": {},
   "outputs": [],
   "source": [
    "import numpy as np\n",
    "import pandas as pd\n",
    "import requests\n",
    "import urllib\n",
    "import time\n",
    "from datetime import datetime, timezone\n",
    "import pytz\n",
    "from tzwhere import tzwhere"
   ]
  },
  {
   "cell_type": "code",
   "execution_count": 3,
   "id": "8ddc9956",
   "metadata": {},
   "outputs": [],
   "source": [
    "def get_FIPS_api(lat, lon):\n",
    "    try:\n",
    "        params = urllib.parse.urlencode({\"latitude\": lat, \"longitude\": lon, \"format\": \"json\"})\n",
    "        url = \"https://geo.fcc.gov/api/census/block/find?\" + params\n",
    "        response = requests.get(url)\n",
    "        data = response.json()\n",
    "    except:\n",
    "        print(f\"The API probably blocked us.\")\n",
    "        return \"ERROR\", \"ERROR\"\n",
    "\n",
    "    return data['County']['FIPS'], data['County']['name']\n",
    "\n",
    "def get_FIPS(s):\n",
    "    city = s.City\n",
    "    state = s.State\n",
    "    \n",
    "    count_info = counties_df.loc[(counties_df.city==city)&(counties_df.state_id==state), [\"county_name\", \"county_fips\"]]\n",
    "    \n",
    "    if len(count_info) >= 1:\n",
    "        return count_info.iloc[0].county_fips, count_info.iloc[0].county_name\n",
    "\n",
    "    counter = 0\n",
    "    while counter < 5:\n",
    "        county_info = get_FIPS_api(s.Lat, s.Lon)\n",
    "        if county_info[0] == \"ERROR\":\n",
    "            time.sleep(60)\n",
    "            continue\n",
    "\n",
    "        if len(county_info) == 2:\n",
    "            return county_info[0], county_info[1]\n",
    "\n",
    "        counter += 1\n",
    "    return None, None\n",
    "\n",
    "def fill_spaces(fips):\n",
    "    if len(fips) < 5:\n",
    "        return str(fips).zfill(5)\n",
    "    return fips\n",
    "\n",
    "#correcting 1900s to 2000s issue with date column\n",
    "def fix_date(x):\n",
    "    if x.year > 2021:\n",
    "        return datetime(x.year - 100, x.month, x.day, x.hour, x.minute, x.second, x.microsecond, tzinfo=timezone.utc)\n",
    "    else:\n",
    "        return x"
   ]
  },
  {
   "cell_type": "code",
   "execution_count": 4,
   "id": "9c55f86a",
   "metadata": {},
   "outputs": [],
   "source": [
    "%%script false --no-raise-error\n",
    "\n",
    "file_name = \"sightings_cleaned_us.pkl\"\n",
    "sightings_cleaned = pd.read_pickle(file_name)\n",
    "\n",
    "counties_df = pd.read_csv(\"resources/uscities.csv\")\n",
    "counties_df = counties_df[[\"city\", \"state_id\", \"county_name\", \"county_fips\", \"population\"]]\n",
    "\n",
    "sightings_county = sightings_cleaned[[\"Lat\", \"Lon\", \"City\", \"State\"]].apply(get_FIPS, axis=1, result_type='expand')\n",
    "sightings_county.columns = [\"FIPS\", \"County\"]\n",
    "\n",
    "sightings_cleaned = pd.concat([sightings_cleaned, sightings_county], axis='columns')\n",
    "\n",
    "sightings_cleaned = sightings_cleaned.loc[:,~sightings_cleaned.columns.duplicated()]\n",
    "sightings_cleaned[\"FIPS\"] = sightings_cleaned.FIPS.astype(str)\n",
    "\n",
    "sightings_cleaned[\"FIPS\"] = sightings_cleaned[\"FIPS\"].apply(fill_spaces)\n",
    "\n",
    "sightings_merged = pd.merge(sightings_cleaned, sightings_add_UTC[[\"timezone_str\", \"Time_UTC\"]], left_index=True, right_index=True)\n",
    "sightings_merged.drop(sightings_merged[sightings_merged.Time_UTC.isnull()].index, axis=0, inplace=True)\n",
    "sightings_cleaned = sightings_merged\n",
    "\n",
    "sightings_cleaned[\"Time_UTC\"] = sightings_cleaned[\"Time_UTC\"].apply(fix_date)\n",
    "sightings_cleaned[\"Time_UTC\"] = pd.to_datetime(sightings_cleaned[\"Time_UTC\"], utc=True)\n",
    "\n",
    "sightings_cleaned.to_pickle(\"sightings_with_counties.pkl\")"
   ]
  }
 ],
 "metadata": {
  "kernelspec": {
   "display_name": "Python 3",
   "language": "python",
   "name": "python3"
  },
  "language_info": {
   "codemirror_mode": {
    "name": "ipython",
    "version": 3
   },
   "file_extension": ".py",
   "mimetype": "text/x-python",
   "name": "python",
   "nbconvert_exporter": "python",
   "pygments_lexer": "ipython3",
   "version": "3.6.10"
  }
 },
 "nbformat": 4,
 "nbformat_minor": 5
}
