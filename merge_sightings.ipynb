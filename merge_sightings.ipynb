{
 "cells": [
  {
   "cell_type": "code",
   "execution_count": 1,
   "id": "37b8ff19",
   "metadata": {},
   "outputs": [],
   "source": [
    "import numpy as np\n",
    "import pandas as pd\n",
    "import matplotlib.pyplot as plt\n",
    "import seaborn as sns\n",
    "from datetime import datetime"
   ]
  },
  {
   "cell_type": "code",
   "execution_count": 2,
   "id": "b208f545",
   "metadata": {},
   "outputs": [],
   "source": [
    "sightings_w_counties = pd.read_pickle(\"sightings_with_counties.pkl\")\n",
    "sightings_w_features = pd.read_pickle('sightings_add_features.pkl')"
   ]
  },
  {
   "cell_type": "code",
   "execution_count": 3,
   "id": "ef2e3fa9",
   "metadata": {},
   "outputs": [
    {
     "data": {
      "text/plain": [
       "Index(['Date_Time', 'Shape', 'Duration', 'Summary', 'Posted', 'Detail_Link',\n",
       "       'Detail_Summary', 'Detail_Summary_nltk', 'Notes', 'Country', 'City',\n",
       "       'State', 'Location', 'Lat', 'Lon', 'timezone_str', 'Time_UTC',\n",
       "       'sentiment_Vader', 'sentiment_nltk', 'sentiment_TextBlob',\n",
       "       'objectivity_TextBlob'],\n",
       "      dtype='object')"
      ]
     },
     "execution_count": 3,
     "metadata": {},
     "output_type": "execute_result"
    }
   ],
   "source": [
    "sightings_w_features.columns"
   ]
  },
  {
   "cell_type": "code",
   "execution_count": 4,
   "id": "b4b590fd",
   "metadata": {},
   "outputs": [],
   "source": [
    "state_abr = {\"Hawaii\":\"HI\", \"Alaska\":\"AK\", \"Washington\":\"WA\", \"Oregon\":\"OR\", \"California\":\"CA\",\n",
    "                        \"Arizona\":\"AZ\", \"Utah\":\"UT\", \"Idaho\":\"ID\", \"Montana\":\"MT\", \"Wyoming\":\"WY\", \"Colorado\":\"CO\",\n",
    "                        \"New Mexico\":\"NM\", \"Texas\":\"TX\", \"Oklahoma\":\"OK\", \"Kansas\":\"KS\", \"Nebraska\":\"NE\", \n",
    "                        \"South Dakota\":\"SD\", \"North Dakota\":\"ND\", \"Minnesota\":\"MN\", \"Iowa\":\"IA\", \"Missouri\":\"MO\",\n",
    "                        \"Arkansas\":\"AR\", \"Louisiana\":\"LA\", \"Wisconsin\":\"WI\", \"Illinois\":\"IL\", \"Mississippi\":\"MS\",\n",
    "                        \"Alabama\":\"AL\", \"Georgia\":\"GA\", \"Florida\":\"FL\", \"Tennessee\":\"TN\", \"Kentucky\":\"KY\", \"Indiana\":\"IN\",\n",
    "                        \"Michigan\":\"MI\", \"South Carolina\":\"SC\", \"North Carolina\":\"NC\", \"Virginia\":\"VA\",\n",
    "                        \"West Virginia\":\"WV\", \"Ohio\":\"OH\", \"Pennsylvania\":\"PA\", \"Maryland\":\"MD\", \"Delaware\":\"DE\",\n",
    "                        \"New Jersey\":\"NJ\", \"New York\":\"NY\", \"Connecticut\":\"CT\", \"Rhode Island\":\"RI\", \n",
    "                        \"Massachusetts\":\"MA\", \"Vermont\":\"VT\", \"New Hampshire\":\"NH\", \"Maine\":\"ME\",\n",
    "                        \"District of Columbia\":\"DC\", \"Nevada\":\"NV\", \"Puerto Rico\":\"PR\"}"
   ]
  },
  {
   "cell_type": "code",
   "execution_count": 5,
   "id": "04de34d4",
   "metadata": {},
   "outputs": [
    {
     "data": {
      "text/plain": [
       "Date_Time                   0\n",
       "Shape                       0\n",
       "Duration                    0\n",
       "Summary                     0\n",
       "Posted                      0\n",
       "Detail_Link                 0\n",
       "Detail_Summary              0\n",
       "Detail_Summary_nltk         0\n",
       "Country                     0\n",
       "City                        0\n",
       "State                       0\n",
       "Location                    0\n",
       "Lat                         0\n",
       "Lon                         0\n",
       "timezone_str                0\n",
       "Time_UTC                    0\n",
       "sentiment_Vader             0\n",
       "sentiment_nltk              0\n",
       "sentiment_TextBlob          0\n",
       "objectivity_TextBlob        0\n",
       "rel0_2007                   0\n",
       "rel1_2007                   0\n",
       "rel2_2007                   0\n",
       "rel3_2007                   0\n",
       "rel4_2007                 181\n",
       "rel5_2007                4887\n",
       "par0_2007                   0\n",
       "par1_2007                   0\n",
       "par2_2007                   0\n",
       "par3_2007                   0\n",
       "rel0_2014                   0\n",
       "rel1_2014                   0\n",
       "rel2_2014                   0\n",
       "rel3_2014                   0\n",
       "rel4_2014                1544\n",
       "rel5_2014               12342\n",
       "par0_2014                   0\n",
       "par1_2014                   0\n",
       "par2_2014                   0\n",
       "par3_2014                   0\n",
       "dtype: int64"
      ]
     },
     "execution_count": 5,
     "metadata": {},
     "output_type": "execute_result"
    }
   ],
   "source": [
    "features = pd.read_pickle(\"featuresCapstone.pkl\")\n",
    "\n",
    "feature_columns = ['rel0_2007', 'rel1_2007', 'rel2_2007', 'rel3_2007', 'rel4_2007', 'rel5_2007', 'par0_2007', 'par1_2007', 'par2_2007', 'par3_2007', 'rel0_2014', 'rel1_2014', 'rel2_2014', 'rel3_2014', 'rel4_2014', 'rel5_2014', 'par0_2014', 'par1_2014', 'par2_2014', 'par3_2014',]\n",
    "states = features.state.unique()\n",
    "\n",
    "for state in states:\n",
    "    state_abbr = state_abr[state]\n",
    "    for c in feature_columns:\n",
    "        # test = features.loc[features.state == state, c].unique()[0]\n",
    "        sightings_w_features.loc[(sightings_w_features.State == state_abbr), c] = features.loc[features.state == state, c].unique()[0]\n",
    "\n",
    "validation_cols = feature_columns.copy()\n",
    "validation_cols.append(\"State\")\n",
    "\n",
    "states_to_remove = sightings_w_features.loc[sightings_w_features.rel0_2007.isnull()==True, validation_cols].State.unique()\n",
    "sightings_w_features = sightings_w_features[sightings_w_features.State.isin(states_to_remove)==False]\n",
    "\n",
    "try:\n",
    "    sightings_w_features.drop([\"Notes\"], axis=1, inplace=True)\n",
    "except:\n",
    "    print(\"Column(s) already gone.\")\n",
    "sightings_w_features.isnull().sum()"
   ]
  },
  {
   "cell_type": "code",
   "execution_count": 6,
   "id": "9ed39dfb",
   "metadata": {},
   "outputs": [],
   "source": [
    "for c in feature_columns:\n",
    "    sightings_w_features.loc[sightings_w_features[c].isnull(), c] = 0"
   ]
  },
  {
   "cell_type": "code",
   "execution_count": 7,
   "id": "d08cc477",
   "metadata": {},
   "outputs": [
    {
     "data": {
      "text/plain": [
       "Date_Time               0\n",
       "Shape                   0\n",
       "Duration                0\n",
       "Summary                 0\n",
       "Posted                  0\n",
       "Detail_Link             0\n",
       "Detail_Summary          0\n",
       "Detail_Summary_nltk     0\n",
       "Country                 0\n",
       "City                    0\n",
       "State                   0\n",
       "Location                0\n",
       "Lat                     0\n",
       "Lon                     0\n",
       "timezone_str            0\n",
       "Time_UTC                0\n",
       "sentiment_Vader         0\n",
       "sentiment_nltk          0\n",
       "sentiment_TextBlob      0\n",
       "objectivity_TextBlob    0\n",
       "rel0_2007               0\n",
       "rel1_2007               0\n",
       "rel2_2007               0\n",
       "rel3_2007               0\n",
       "rel4_2007               0\n",
       "rel5_2007               0\n",
       "par0_2007               0\n",
       "par1_2007               0\n",
       "par2_2007               0\n",
       "par3_2007               0\n",
       "rel0_2014               0\n",
       "rel1_2014               0\n",
       "rel2_2014               0\n",
       "rel3_2014               0\n",
       "rel4_2014               0\n",
       "rel5_2014               0\n",
       "par0_2014               0\n",
       "par1_2014               0\n",
       "par2_2014               0\n",
       "par3_2014               0\n",
       "dtype: int64"
      ]
     },
     "execution_count": 7,
     "metadata": {},
     "output_type": "execute_result"
    }
   ],
   "source": [
    "sightings_w_features.isnull().sum()"
   ]
  },
  {
   "cell_type": "code",
   "execution_count": 8,
   "id": "da61999f",
   "metadata": {},
   "outputs": [
    {
     "data": {
      "text/html": [
       "<div>\n",
       "<style scoped>\n",
       "    .dataframe tbody tr th:only-of-type {\n",
       "        vertical-align: middle;\n",
       "    }\n",
       "\n",
       "    .dataframe tbody tr th {\n",
       "        vertical-align: top;\n",
       "    }\n",
       "\n",
       "    .dataframe thead th {\n",
       "        text-align: right;\n",
       "    }\n",
       "</style>\n",
       "<table border=\"1\" class=\"dataframe\">\n",
       "  <thead>\n",
       "    <tr style=\"text-align: right;\">\n",
       "      <th></th>\n",
       "      <th>Date_Time</th>\n",
       "      <th>Shape</th>\n",
       "      <th>Duration</th>\n",
       "      <th>Summary</th>\n",
       "      <th>Posted</th>\n",
       "      <th>Detail_Link</th>\n",
       "      <th>Detail_Summary</th>\n",
       "      <th>Detail_Summary_nltk</th>\n",
       "      <th>Country</th>\n",
       "      <th>City</th>\n",
       "      <th>...</th>\n",
       "      <th>rel0_2014</th>\n",
       "      <th>rel1_2014</th>\n",
       "      <th>rel2_2014</th>\n",
       "      <th>rel3_2014</th>\n",
       "      <th>rel4_2014</th>\n",
       "      <th>rel5_2014</th>\n",
       "      <th>par0_2014</th>\n",
       "      <th>par1_2014</th>\n",
       "      <th>par2_2014</th>\n",
       "      <th>par3_2014</th>\n",
       "    </tr>\n",
       "  </thead>\n",
       "  <tbody>\n",
       "  </tbody>\n",
       "</table>\n",
       "<p>0 rows × 40 columns</p>\n",
       "</div>"
      ],
      "text/plain": [
       "Empty DataFrame\n",
       "Columns: [Date_Time, Shape, Duration, Summary, Posted, Detail_Link, Detail_Summary, Detail_Summary_nltk, Country, City, State, Location, Lat, Lon, timezone_str, Time_UTC, sentiment_Vader, sentiment_nltk, sentiment_TextBlob, objectivity_TextBlob, rel0_2007, rel1_2007, rel2_2007, rel3_2007, rel4_2007, rel5_2007, par0_2007, par1_2007, par2_2007, par3_2007, rel0_2014, rel1_2014, rel2_2014, rel3_2014, rel4_2014, rel5_2014, par0_2014, par1_2014, par2_2014, par3_2014]\n",
       "Index: []\n",
       "\n",
       "[0 rows x 40 columns]"
      ]
     },
     "execution_count": 8,
     "metadata": {},
     "output_type": "execute_result"
    }
   ],
   "source": [
    "sightings_w_features[sightings_w_features.sentiment_nltk.isnull()|sightings_w_features.sentiment_TextBlob.isnull()|sightings_w_features.objectivity_TextBlob.isnull()]"
   ]
  },
  {
   "cell_type": "code",
   "execution_count": 9,
   "id": "a45b0aef",
   "metadata": {},
   "outputs": [
    {
     "data": {
      "text/plain": [
       "60969"
      ]
     },
     "execution_count": 9,
     "metadata": {},
     "output_type": "execute_result"
    }
   ],
   "source": [
    "len(sightings_w_features)"
   ]
  },
  {
   "cell_type": "code",
   "execution_count": 10,
   "id": "5a6a4d59",
   "metadata": {},
   "outputs": [],
   "source": [
    "from sklearn.preprocessing import LabelEncoder\n",
    "\n",
    "def encode_state(s):\n",
    "    return le.transform([s])\n",
    "    \n",
    "le = LabelEncoder()\n",
    "\n",
    "sightings_states = pd.DataFrame()\n",
    "sightings_states[\"State\"] = sightings_w_features.State.unique()\n",
    "le.fit(sightings_states[\"State\"])\n",
    "\n",
    "sightings_w_features[\"State_num\"] = le.transform(sightings_w_features[\"State\"])"
   ]
  },
  {
   "cell_type": "code",
   "execution_count": 11,
   "id": "db976594",
   "metadata": {},
   "outputs": [],
   "source": [
    "from sklearn.preprocessing import StandardScaler\n",
    "from sklearn.pipeline import Pipeline\n",
    "\n",
    "sightings_w_features[\"time_num\"] = sightings_w_features[\"Time_UTC\"].astype(int)\n",
    "\n",
    "trans_cols = [\"time_num\"]\n",
    "\n",
    "numeric_transformer = Pipeline(steps=[(\"scaler\", StandardScaler())])\n",
    "sightings_w_features[trans_cols] = numeric_transformer.fit_transform(sightings_w_features[trans_cols])"
   ]
  },
  {
   "cell_type": "code",
   "execution_count": 12,
   "id": "0fea31e2",
   "metadata": {},
   "outputs": [
    {
     "data": {
      "text/plain": [
       "(61069, 60969)"
      ]
     },
     "execution_count": 12,
     "metadata": {},
     "output_type": "execute_result"
    }
   ],
   "source": [
    "len(sightings_w_counties), len(sightings_w_features)"
   ]
  },
  {
   "cell_type": "code",
   "execution_count": 13,
   "id": "52d98bb8",
   "metadata": {},
   "outputs": [
    {
     "data": {
      "text/plain": [
       "60412"
      ]
     },
     "execution_count": 13,
     "metadata": {},
     "output_type": "execute_result"
    }
   ],
   "source": [
    "sightings = sightings_w_features.join(sightings_w_counties[['FIPS', 'County']], how=\"inner\")\n",
    "len(sightings)"
   ]
  },
  {
   "cell_type": "code",
   "execution_count": 14,
   "id": "9ef5e8c0",
   "metadata": {},
   "outputs": [
    {
     "data": {
      "image/png": "[encoded data removed]",
      "text/plain": [
       "<Figure size 432x288 with 2 Axes>"
      ]
     },
     "metadata": {
      "needs_background": "light"
     },
     "output_type": "display_data"
    }
   ],
   "source": [
    "corr_features = ['State_num', 'time_num', 'Lat', 'Lon', 'rel0_2007', 'rel1_2007', 'rel2_2007',\n",
    "                 'rel3_2007', 'rel4_2007', 'rel5_2007', \n",
    "                 'par0_2007', 'par1_2007', 'par2_2007', 'par3_2007', 'rel0_2014', 'rel1_2014', \n",
    "                 'rel2_2014', 'rel3_2014', 'rel4_2014', 'rel5_2014', 'par0_2014', 'par1_2014', \n",
    "                 'par2_2014', 'par3_2014']\n",
    "sns.heatmap(sightings[corr_features].corr(), cmap= 'coolwarm');"
   ]
  },
  {
   "cell_type": "code",
   "execution_count": 15,
   "id": "7ea961aa",
   "metadata": {},
   "outputs": [],
   "source": [
    "fileName = 'sightings_merged.pkl'\n",
    "sightings.to_pickle(fileName)"
   ]
  }
 ],
 "metadata": {
  "kernelspec": {
   "display_name": "Python 3",
   "language": "python",
   "name": "python3"
  },
  "language_info": {
   "codemirror_mode": {
    "name": "ipython",
    "version": 3
   },
   "file_extension": ".py",
   "mimetype": "text/x-python",
   "name": "python",
   "nbconvert_exporter": "python",
   "pygments_lexer": "ipython3",
   "version": "3.6.10"
  }
 },
 "nbformat": 4,
 "nbformat_minor": 5
}
