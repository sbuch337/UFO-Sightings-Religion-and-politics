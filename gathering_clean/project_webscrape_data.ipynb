{
 "cells": [
  {
   "cell_type": "code",
   "execution_count": null,
   "id": "19744bc6",
   "metadata": {},
   "outputs": [],
   "source": [
    "from bs4 import BeautifulSoup as bsoup\n",
    "from urllib.request import Request, urlopen\n",
    "import urllib.error\n",
    "import csv\n",
    "import requests\n",
    "import pandas as pd\n",
    "import numpy as np\n",
    "import time\n",
    "import logging"
   ]
  },
  {
   "cell_type": "code",
   "execution_count": null,
   "id": "b4e4669c",
   "metadata": {},
   "outputs": [],
   "source": [
    "logging.basicConfig(filename='sightings_webscrape.log', format='%(asctime)s - %(message)s', datefmt='%d-%b-%y %H:%M:%S', level=logging.INFO)\n",
    "logger = logging.getLogger()"
   ]
  },
  {
   "cell_type": "code",
   "execution_count": null,
   "id": "187adc75",
   "metadata": {},
   "outputs": [],
   "source": [
    "def get_page(url):\n",
    "    req = Request(url, headers={'User-Agent': 'Mozilla/5.0'})\n",
    "    count = 0\n",
    "    webpage = \"\"\n",
    "    while count < 100:\n",
    "        count += 1\n",
    "        try:\n",
    "            webpage = urlopen(req).read()\n",
    "        except urllib.error.HTTPError as e:\n",
    "            # Return code error (e.g. 404, 501, ...)\n",
    "            logger.info('HTTPError: {}'.format(e.code))\n",
    "            logger.info(f\"Errored: {len(sightings)}; {url}\")\n",
    "            return None\n",
    "        except urllib.error.URLError as e:\n",
    "            # Not an HTTP-specific error (e.g. connection refused)\n",
    "            logger.info('URLError: {}'.format(e.reason))\n",
    "            time.sleep(15)\n",
    "            continue\n",
    "        except:\n",
    "            logger.info(f\"Errored: {len(sightings)}; {url}\")\n",
    "            time.sleep(15)\n",
    "            continue\n",
    "            logger.info(f\"Trying again: {len(sightings)}; {url}\")\n",
    "        \n",
    "        if len(webpage) > 0:\n",
    "            break\n",
    "        \n",
    "        if count >= 100:\n",
    "            return None\n",
    "\n",
    "    #Create a beautiful soup object so we can work with the data\n",
    "    soup = bsoup(webpage, 'html.parser')\n",
    "\n",
    "    #Sanity check \n",
    "    return soup\n",
    "\n",
    "def get_iterable_data(table):\n",
    "    for c in table:\n",
    "        yield c.getText()\n",
    "\n",
    "def get_sighting_detail(url_string):\n",
    "    detail_page = get_page(url_string)\n",
    "    if detail_page is None:\n",
    "        logger.info(f\"No summary page: {url_string}\")\n",
    "        return \"Summary detail page not found.\"\n",
    "    detail_page = detail_page.find(\"tbody\")\n",
    "    if detail_page is None:\n",
    "        return None\n",
    "    rows = detail_page.find_all(\"tr\")\n",
    "    d = get_iterable_data(rows)\n",
    "    next(d)\n",
    "    return next(d)\n",
    "\n",
    "def monthly_report_detail(url_string, col_names, sightings, remaining):\n",
    "    # func_sightings = pd.DataFrame(columns = col_names)\n",
    "    soup = get_page(url_string)\n",
    "    temp = dict()\n",
    "\n",
    "    results = soup.find_all('tr', attrs={'valign': 'TOP'})\n",
    "    index = len(sightings)\n",
    "    count = 0\n",
    "    for result in results:\n",
    "        if remaining > 0:\n",
    "            remaining -= 1\n",
    "            count += 1\n",
    "            continue\n",
    "        # print(f\"Length: {len(sightings)}, index: {index}, count: {count}, remaining: {remaining}\")\n",
    "        table_cols = result.find_all('td')    \n",
    "        col_text = get_iterable_data(table_cols)\n",
    "        temp[\"Date_Time\"] = next(col_text)\n",
    "        temp[\"City\"] = next(col_text)\n",
    "        temp[\"State\"] = next(col_text)\n",
    "        temp[\"Shape\"] = next(col_text)\n",
    "        temp[\"Duration\"] = next(col_text)\n",
    "        temp[\"Summary\"] = next(col_text)\n",
    "        temp[\"Posted\"] = next(col_text)\n",
    "        temp[\"Detail_Link\"] = \"http://www.nuforc.org/webreports/\" + result.find(\"a\").get(\"href\")\n",
    "        temp[\"Detail_Summary\"] = get_sighting_detail(temp[\"Detail_Link\"])\n",
    "\n",
    "        # func_sightings = func_sightings.append(temp, ignore_index = True) \n",
    "        sightings.loc[index] = temp\n",
    "        logger.info(f\"Record added: {temp['Date_Time']} - {temp['City']}, {temp['State']}\")\n",
    "        print(f\"Record added: {temp['City']}, {temp['State']}\")\n",
    "        index += 1\n",
    "    return len(results)"
   ]
  },
  {
   "cell_type": "code",
   "execution_count": null,
   "id": "5c0c4824",
   "metadata": {},
   "outputs": [],
   "source": [
    "# col_names = [\"Date_Time\", \"City\", \"State\", \"Shape\", \"Duration\", \"Summary\", \"Posted\", \"Detail_Link\", \"Detail_Summary\"]\n",
    "# sightings = pd.DataFrame(columns = col_names)\n",
    "file_name = \"sightings.pkl\"\n",
    "logger.info(f\"Data read from {file_name}\")\n",
    "sightings = pd.read_pickle(file_name)\n",
    "\n",
    "len(sightings)"
   ]
  },
  {
   "cell_type": "code",
   "execution_count": null,
   "id": "1aa08f98",
   "metadata": {},
   "outputs": [],
   "source": [
    "url_string = \"http://www.nuforc.org/webreports/ndxevent.html\"\n",
    "monthly_report = get_page(url_string)\n",
    "monthly_report_list = monthly_report.find_all('tr', attrs={'valign': 'TOP'})\n",
    "# print(monthly_report_list)\n",
    "\n",
    "remaining = len(sightings)\n",
    "for report in monthly_report_list:\n",
    "    cols = report.find_all(\"td\")\n",
    "    report_number = int(cols[1].getText())\n",
    "\n",
    "    if remaining > report_number:\n",
    "        remaining = remaining - report_number\n",
    "        continue\n",
    "\n",
    "    if remaining > 0:\n",
    "        logger.info(f\"Resuming: {len(sightings)}\")\n",
    "\n",
    "    monthly_report_url = \"http://www.nuforc.org/webreports/\" + report.find(\"a\").get(\"href\")\n",
    "    logger.info(f\"new report page: {monthly_report_url}; Sightings in page: {report_number}; Total: {len(sightings)}\")\n",
    "    sightings_added = monthly_report_detail(monthly_report_url, col_names, sightings, remaining)\n",
    "    logger.info(f\"added {sightings_added} sightings, total now {len(sightings)}\")\n",
    "    print(f\"added {sightings_added} sightings, total now {len(sightings)}\")\n",
    "\n",
    "    sightings.to_pickle(file_name)\n",
    "\n",
    "    remaining = 0"
   ]
  },
  {
   "cell_type": "code",
   "execution_count": null,
   "id": "df7de64e",
   "metadata": {},
   "outputs": [],
   "source": [
    "len(sightings)"
   ]
  },
  {
   "cell_type": "code",
   "execution_count": null,
   "id": "84ac5455",
   "metadata": {},
   "outputs": [],
   "source": [
    "sightings.head()"
   ]
  },
  {
   "cell_type": "code",
   "execution_count": null,
   "id": "bb4bc6c8",
   "metadata": {},
   "outputs": [],
   "source": [
    "len(sightings[sightings[\"Detail_Summary\"] == \"Summary detail page not found.\"])"
   ]
  },
  {
   "cell_type": "code",
   "execution_count": null,
   "id": "73b4f289",
   "metadata": {},
   "outputs": [],
   "source": [
    "len(sightings[(sightings[\"Detail_Summary\"].isnull())])"
   ]
  },
  {
   "cell_type": "code",
   "execution_count": null,
   "id": "8ff7397b",
   "metadata": {},
   "outputs": [],
   "source": [
    "no_detail_summary_df = sightings[(sightings[\"Detail_Summary\"].isnull()) | (sightings[\"Detail_Summary\"] == \"Summary detail page not found.\")]\n",
    "len(no_detail_summary_df)"
   ]
  },
  {
   "cell_type": "code",
   "execution_count": null,
   "id": "e1a7f847",
   "metadata": {},
   "outputs": [],
   "source": [
    "count = 0\n",
    "for index, row in no_detail_summary_df.iterrows():\n",
    "    url = row.Detail_Link\n",
    "    sighting_detail = get_sighting_detail(url)\n",
    "    print(f\"{count}, {row.Date_Time}: {sighting_detail}; {url}\") \n",
    "    count += 1"
   ]
  }
 ],
 "metadata": {
  "kernelspec": {
   "display_name": "Python 3",
   "language": "python",
   "name": "python3"
  },
  "language_info": {
   "codemirror_mode": {
    "name": "ipython",
    "version": 3
   },
   "file_extension": ".py",
   "mimetype": "text/x-python",
   "name": "python",
   "nbconvert_exporter": "python",
   "pygments_lexer": "ipython3",
   "version": "3.6.10"
  }
 },
 "nbformat": 4,
 "nbformat_minor": 5
}
